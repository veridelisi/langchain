{
  "nbformat": 4,
  "nbformat_minor": 0,
  "metadata": {
    "colab": {
      "provenance": [],
      "include_colab_link": true
    },
    "kernelspec": {
      "name": "python3",
      "display_name": "Python 3"
    },
    "language_info": {
      "name": "python"
    }
  },
  "cells": [
    {
      "cell_type": "markdown",
      "metadata": {
        "id": "view-in-github",
        "colab_type": "text"
      },
      "source": [
        "<a href=\"https://colab.research.google.com/github/veridelisi/langchain/blob/main/02)_Prompts_Langchain.ipynb\" target=\"_parent\"><img src=\"https://colab.research.google.com/assets/colab-badge.svg\" alt=\"Open In Colab\"/></a>"
      ]
    },
    {
      "cell_type": "code",
      "source": [
        "!pip install -qU langchain openai"
      ],
      "metadata": {
        "id": "Wxq_WHOLCXx6"
      },
      "execution_count": null,
      "outputs": []
    },
    {
      "cell_type": "code",
      "source": [
        "from langchain import PromptTemplate, OpenAI\n",
        "from langchain import LLMChain\n",
        "from langchain.prompts.few_shot import FewShotPromptTemplate\n",
        "from langchain.prompts.prompt import PromptTemplate"
      ],
      "metadata": {
        "id": "4j9hnUJXaJSR"
      },
      "execution_count": null,
      "outputs": []
    },
    {
      "cell_type": "code",
      "source": [
        "OPENAI_API_KEY = \"......\""
      ],
      "metadata": {
        "id": "fzfd1a76auFP"
      },
      "execution_count": null,
      "outputs": []
    },
    {
      "cell_type": "code",
      "source": [
        "llm = OpenAI(temperature=0, openai_api_key=OPENAI_API_KEY)"
      ],
      "metadata": {
        "id": "L-tojT7ibB2C"
      },
      "execution_count": null,
      "outputs": []
    },
    {
      "cell_type": "code",
      "source": [
        "template = \"\"\"\n",
        "I want you to act as a professional chef\n",
        "What is a delicious meal from the country of {country}?\n",
        "\"\"\"\n",
        "\n",
        "prompt_template = PromptTemplate(\n",
        "    input_variables=[\"country\"],\n",
        "    template=template,\n",
        ")\n",
        "\n",
        "chain = LLMChain(llm=llm, prompt = prompt_template)\n",
        "\n",
        "print(chain.run('Mexico'))"
      ],
      "metadata": {
        "id": "G2KG4arhZw-m"
      },
      "execution_count": null,
      "outputs": []
    },
    {
      "cell_type": "code",
      "source": [
        "template = \"\"\"\n",
        "I want you to act as a professional chef\n",
        "What is a delicious {type_of_dish} from the country of {country}?\n",
        "\"\"\"\n",
        "\n",
        "prompt_template = PromptTemplate(\n",
        "    input_variables=[\"country\", \"type_of_dish\"],\n",
        "    template=template,\n",
        ")\n",
        "\n",
        "chain = LLMChain(llm=llm, prompt = prompt_template)\n",
        "\n",
        "print(chain.run({\n",
        "    'country': \"Samos\",\n",
        "    'type_of_dish': \"meat dish\"\n",
        "    }))"
      ],
      "metadata": {
        "id": "uHsu0gPxteeK"
      },
      "execution_count": null,
      "outputs": []
    },
    {
      "cell_type": "code",
      "source": [
        "examples = [\n",
        "  {\n",
        "    \"country\": \"Brazil\",\n",
        "    \"answer\": \"\"\"\n",
        "    Feijoada - This is a hearty black bean stew that's cooked with different parts of the pig\n",
        "    Acarajé - This is a deep-fried ball of dough made from black-eyed peas, onions, and salt.\n",
        "    Pão de queijo - This is a small, baked cheese bread roll that's made from tapioca flour,\n",
        "    \"\"\"\n",
        "  },\n",
        "\n",
        "  {\n",
        "    \"country\": \"Mexico\",\n",
        "    \"answer\": \"\"\"\n",
        "    Tacos - A traditional Mexican dish composed of a corn or wheat tortilla folded or rolled around a filling which can be made with a variety of ingredients, including beef, chicken, vegetables, and cheese.\n",
        "    Chiles en nogada - This dish consists of poblano chilis filled with picadillo (a mixture usually containing shredded meat, aromatics, fruits and spices) topped with a walnut-based cream sauce, called nogada, and pomegranate seeds, giving it the three colors of the Mexican flag.\n",
        "    Pozole - A traditional soup made from hominy (dried maize kernels), with meat, typically pork, and garnished with shredded lettuce or cabbage, chili peppers, radish, onion, lime juice, and oregano.\n",
        "    \"\"\"\n",
        "  },\n",
        "  {\n",
        "    \"country\": \"Korea\",\n",
        "    \"answer\": \"\"\"\n",
        "    Bibimbap - A dish consisting of rice topped with sautéed vegetables, chili paste, and beef or other meat, often with the addition of a raw or fried egg.\n",
        "    Kimchi - A staple in Korean cuisine, it's a traditional side dish of salted and fermented vegetables, usually cabbage and radishes, with a variety of seasonings including chili powder, scallions, garlic, and ginger.\n",
        "    Bulgogi - This is a marinated meat dish made with thin slices of beef, usually ribeye, marinated with a mix of soy sauce, sugar, sesame oil, garlic and other ingredients such as scallions, or mushrooms, then grilled or pan-cooked.\n",
        "    \"\"\"\n",
        "  },\n",
        "]"
      ],
      "metadata": {
        "id": "ZgNZLwBwjEC2"
      },
      "execution_count": null,
      "outputs": []
    },
    {
      "cell_type": "code",
      "source": [
        "example_prompt = PromptTemplate(input_variables=[\"country\", \"answer\"], template=\"Country: {country}\\nFoods: {answer}\")\n",
        "\n",
        "few_shot_template = FewShotPromptTemplate(\n",
        "    examples=examples,\n",
        "    example_prompt= example_prompt,\n",
        "    input_variables=[\"country\"],\n",
        "    suffix=\"Country: {country}\\n Diet Foods:\"\n",
        ")\n",
        "\n",
        "formatted_prompt = few_shot_template.format(country=\"Australia\")\n",
        "print(formatted_prompt)"
      ],
      "metadata": {
        "id": "QlTxFl5ijFEJ"
      },
      "execution_count": null,
      "outputs": []
    },
    {
      "cell_type": "code",
      "source": [
        "chain = LLMChain(llm=llm, prompt=few_shot_template)\n",
        "foods = chain.run(\"China\")\n",
        "\n",
        "print(foods)"
      ],
      "metadata": {
        "id": "2hHgtj7N4Qbf"
      },
      "execution_count": null,
      "outputs": []
    }
  ]
}
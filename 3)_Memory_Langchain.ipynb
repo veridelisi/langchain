{
  "nbformat": 4,
  "nbformat_minor": 0,
  "metadata": {
    "colab": {
      "provenance": [],
      "include_colab_link": true
    },
    "kernelspec": {
      "name": "python3",
      "display_name": "Python 3"
    },
    "language_info": {
      "name": "python"
    }
  },
  "cells": [
    {
      "cell_type": "markdown",
      "metadata": {
        "id": "view-in-github",
        "colab_type": "text"
      },
      "source": [
        "<a href=\"https://colab.research.google.com/github/veridelisi/langchain/blob/main/3)_Memory_Langchain.ipynb\" target=\"_parent\"><img src=\"https://colab.research.google.com/assets/colab-badge.svg\" alt=\"Open In Colab\"/></a>"
      ]
    },
    {
      "cell_type": "code",
      "execution_count": 2,
      "metadata": {
        "id": "ALSfzcYpKewR"
      },
      "outputs": [],
      "source": [
        "!pip install -qU langchain openai tiktoken"
      ]
    },
    {
      "cell_type": "markdown",
      "source": [
        "## What you will learn\n",
        "\n",
        "- How to use memory in Langchain\n",
        "- ConversationalBufferMemory\n",
        "- ConversationSummaryBufferMemory"
      ],
      "metadata": {
        "id": "12VtazJEbvQm"
      }
    },
    {
      "cell_type": "code",
      "source": [
        "from langchain import OpenAI, PromptTemplate\n",
        "from langchain.chains import LLMChain, ConversationChain, LLMMathChain, TransformChain, SequentialChain, SimpleSequentialChain\n",
        "\n",
        "from langchain.chains.conversation.memory import ConversationBufferMemory, ConversationSummaryBufferMemory\n"
      ],
      "metadata": {
        "id": "S5pkZd9Y8td-"
      },
      "execution_count": 3,
      "outputs": []
    },
    {
      "cell_type": "code",
      "source": [
        "OPENAI_API_KEY = \"\""
      ],
      "metadata": {
        "id": "PWnKwCsp84rR"
      },
      "execution_count": 4,
      "outputs": []
    },
    {
      "cell_type": "markdown",
      "source": [],
      "metadata": {
        "id": "2yRzxW1j-JSs"
      }
    },
    {
      "cell_type": "code",
      "source": [
        "llm = OpenAI(temperature=0, openai_api_key=OPENAI_API_KEY)"
      ],
      "metadata": {
        "id": "nyH6W7r188pF"
      },
      "execution_count": 5,
      "outputs": []
    },
    {
      "cell_type": "markdown",
      "source": [
        "\n",
        "## ConversationBufferMemory\n"
      ],
      "metadata": {
        "id": "CJDD_g3V-HFC"
      }
    },
    {
      "cell_type": "code",
      "source": [
        "memory = ConversationBufferMemory()\n"
      ],
      "metadata": {
        "id": "ciAxpCQH9BOe"
      },
      "execution_count": 6,
      "outputs": []
    },
    {
      "cell_type": "code",
      "source": [
        "conversation = ConversationChain(\n",
        "    llm=llm,\n",
        "    verbose=True,\n",
        "    memory=memory\n",
        ")"
      ],
      "metadata": {
        "id": "RP-RVeZt9DUG"
      },
      "execution_count": 7,
      "outputs": []
    },
    {
      "cell_type": "code",
      "source": [
        "conversation.predict(input=\"Merhaba, benim adım ispanyol.com!\")"
      ],
      "metadata": {
        "id": "m7WN5n_69FV3"
      },
      "execution_count": null,
      "outputs": []
    },
    {
      "cell_type": "code",
      "source": [
        "conversation.predict(input=\"Benim adım ne?\")"
      ],
      "metadata": {
        "id": "4DuqfKfU9OQl"
      },
      "execution_count": null,
      "outputs": []
    },
    {
      "cell_type": "code",
      "source": [
        "conversation.predict(input=\"Google aramalarında gördüğün www.ispanyol.com benim. Wikipedia sitesi ispanyolca aramalarında önümde çıkıyor. Bir strateji önerin var mı?\")"
      ],
      "metadata": {
        "id": "RYQ6BO1i9U5V"
      },
      "execution_count": null,
      "outputs": []
    },
    {
      "cell_type": "code",
      "source": [
        "conversation.predict(input=\"Yapılacak herşeyi yaptım. Neden geçemiyorum\")"
      ],
      "metadata": {
        "id": "xXNpayFZ9gtD"
      },
      "execution_count": null,
      "outputs": []
    },
    {
      "cell_type": "code",
      "source": [
        "print(conversation.memory.buffer)"
      ],
      "metadata": {
        "id": "1Lq3u8fL9o4e",
        "colab": {
          "base_uri": "https://localhost:8080/"
        },
        "outputId": "4ab397ca-0cc2-4645-e868-b466c262d395"
      },
      "execution_count": 25,
      "outputs": [
        {
          "output_type": "stream",
          "name": "stdout",
          "text": [
            "Human: Merhaba, benim adım Giray!\n",
            "AI:  Merhaba Giray! Benim adım AI. Ne hakkında konuşmak istersin?\n",
            "Human: Benim adım ne?\n",
            "AI:  Senin adın Giray.\n",
            "Human: Google aramalarında ispanyolca öğrenmek için en fazla hangi kelime aranıyor\n",
            "AI:  Google aramalarında en fazla aranan ispanyolca kelime, \"cómo\" olarak gözüküyor. Bu kelime \"nasıl\" anlamına geliyor.\n",
            "Human: Türk kullanıcılarının yaptığı aramalarda\n",
            "AI:   Türk kullanıcılarının yaptığı aramalarda en fazla aranan ispanyolca kelime, \"ne demek\" olarak gözüküyor. Bu kelime \"anlamı nedir\" anlamına geliyor.\n",
            "Human: Merhaba, benim adım ispanyol.com!\n",
            "AI:  Merhaba ispanyol.com! Benim adım AI. Ne hakkında konuşmak istersin?\n",
            "Human: Benim adım ne?\n",
            "AI:  Senin adın ispanyol.com.\n",
            "Human: Google aramalarında gördüğün www.ispanyol.com benim. Wikipedia sitesi ispanyolca aramalarında önümde çıkıyor. Bir strateji önerin var mı?\n",
            "AI:   Evet, www.ispanyol.com için bir strateji önerim var. İlk olarak, web sitenizi arama motorlarına kaydetmeyi deneyebilirsiniz. Ayrıca, web sitenizi arama sonuçlarında üst sıralara çıkarmak için SEO (Arama Motoru Optimizasyonu) tekniklerini kullanabilirsiniz. Ayrıca, web sitenizi sosyal medya platformlarında paylaşarak daha fazla insana ulaşabilirsiniz.\n",
            "Human: Yapılacak herşeyi yaptım. Neden geçemiyorum\n",
            "AI:   Web sitenizi arama motorlarına kaydettikten sonra, arama sonuçlarında üst sıralara çıkmanız için birkaç faktör etkili olabilir. Bunlar arasında web sitenizin içeriği, arama motorlarının algoritmaları ve web sitenizin kalitesi sayılabilir. Ayrıca, web sitenizin arama sonuçlarında üst sıralara çıkması için diğer web sitelerinin arama sonuçlarının daha düşük olması gerekebilir.\n"
          ]
        }
      ]
    },
    {
      "cell_type": "markdown",
      "source": [
        "\n",
        "\n",
        "```\n",
        "# This is formatted as code\n",
        "```\n",
        "\n",
        "## *ConversationSummaryBufferMemory*\n",
        "\n",
        "---\n",
        "ConversationSummaryBufferMemory keeps a summary of the previous conversation\n",
        "\n"
      ],
      "metadata": {
        "id": "IZd695dv9yhq"
      }
    },
    {
      "cell_type": "code",
      "source": [
        "memory_summary = ConversationSummaryBufferMemory(llm=llm, max_token_limit=100)\n",
        "conversation_with_summary = ConversationChain(\n",
        "    llm=llm,\n",
        "    memory=ConversationSummaryBufferMemory(llm=llm, max_token_limit=40),\n",
        "    verbose=True\n",
        ")"
      ],
      "metadata": {
        "id": "Er3kxFV4-EOW"
      },
      "execution_count": 26,
      "outputs": []
    },
    {
      "cell_type": "code",
      "source": [
        "conversation_with_summary.predict(input=\"Merhaba ben www.ispanyol.com. Bir web sitesiyim\")"
      ],
      "metadata": {
        "id": "UXHLDNyc-0oi",
        "colab": {
          "base_uri": "https://localhost:8080/",
          "height": 270
        },
        "outputId": "8fce61c1-6e7f-458d-9022-d6f97e70461c"
      },
      "execution_count": 27,
      "outputs": [
        {
          "output_type": "stream",
          "name": "stdout",
          "text": [
            "\n",
            "\n",
            "\u001b[1m> Entering new ConversationChain chain...\u001b[0m\n",
            "Prompt after formatting:\n",
            "\u001b[32;1m\u001b[1;3mThe following is a friendly conversation between a human and an AI. The AI is talkative and provides lots of specific details from its context. If the AI does not know the answer to a question, it truthfully says it does not know.\n",
            "\n",
            "Current conversation:\n",
            "\n",
            "Human: Merhaba ben www.ispanyol.com. Bir web sitesiyim\n",
            "AI:\u001b[0m\n",
            "\n",
            "\u001b[1m> Finished chain.\u001b[0m\n"
          ]
        },
        {
          "output_type": "execute_result",
          "data": {
            "text/plain": [
              "' Merhaba! İspanyol.com bir web sitesi mi? Ne tür bir web sitesi?'"
            ],
            "application/vnd.google.colaboratory.intrinsic+json": {
              "type": "string"
            }
          },
          "metadata": {},
          "execution_count": 27
        }
      ]
    },
    {
      "cell_type": "code",
      "source": [
        "conversation_with_summary.predict(input=\"Ben, ispanyolca eğitim veriyorum. web siteme bakıp fikirlerini söyle\")"
      ],
      "metadata": {
        "id": "psUXUs7VCCh5"
      },
      "execution_count": null,
      "outputs": []
    },
    {
      "cell_type": "code",
      "source": [
        "conversation_with_summary.predict(input=\"Basit metin çevirileri\")"
      ],
      "metadata": {
        "id": "oN_hrVyAAS8c"
      },
      "execution_count": null,
      "outputs": []
    },
    {
      "cell_type": "code",
      "source": [
        "conversation_with_summary.predict(input=\"Tüm dünyada web üzerinde en popüler yöntem nedir\")"
      ],
      "metadata": {
        "id": "o0nU1XIK_tzz"
      },
      "execution_count": null,
      "outputs": []
    },
    {
      "cell_type": "code",
      "source": [
        "print(conversation_with_summary.memory.moving_summary_buffer)"
      ],
      "metadata": {
        "id": "QETHXHWu_0c8"
      },
      "execution_count": null,
      "outputs": []
    }
  ]
}
{
  "cells": [
    {
      "cell_type": "markdown",
      "metadata": {
        "id": "view-in-github",
        "colab_type": "text"
      },
      "source": [
        "<a href=\"https://colab.research.google.com/github/veridelisi/langchain/blob/main/06_vectorizers.ipynb\" target=\"_parent\"><img src=\"https://colab.research.google.com/assets/colab-badge.svg\" alt=\"Open In Colab\"/></a>"
      ]
    },
    {
      "cell_type": "markdown",
      "metadata": {
        "id": "NnIR_R5hJ4As"
      },
      "source": [
        "# Apply a Simple Bag-of-Words Approach\n"
      ]
    },
    {
      "cell_type": "code",
      "execution_count": null,
      "metadata": {
        "id": "cnQ0ewe8J4At"
      },
      "outputs": [],
      "source": [
        "# install spacy if you haven't done so already and download the small English model\n",
        "!pip install -U spacy\n",
        "!python -m spacy download en_core_web_sm\n",
        "\n",
        "# install scikit learn\n",
        "!pip install scikit-learn"
      ]
    },
    {
      "cell_type": "code",
      "execution_count": null,
      "metadata": {
        "id": "V8ZV2XD4J4At"
      },
      "outputs": [],
      "source": [
        "from sklearn.feature_extraction.text import CountVectorizer\n",
        "vectorizer = CountVectorizer()\n",
        "corpus = [\n",
        "    '2 cups of flour',\n",
        "    'replace the flour',\n",
        "    'replace the keyboard in 2 minutes',\n",
        "    'do you prefer Windows or Mac',\n",
        "    'the Mac has the most noisy keyboard',\n",
        "]\n",
        "X = vectorizer.fit_transform(corpus)\n",
        "X.todense()"
      ]
    },
    {
      "cell_type": "markdown",
      "metadata": {
        "id": "kNx-ffeMJ4Au"
      },
      "source": [
        "# Classification\n",
        "\n",
        "The simplified brown corpus is available in the data folder of this github repository\n"
      ]
    },
    {
      "cell_type": "code",
      "execution_count": null,
      "metadata": {
        "colab": {
          "base_uri": "https://localhost:8080/"
        },
        "id": "ERLlj7LnJ4Au",
        "outputId": "71715aaa-97e4-4a43-e2ae-c8c0a31b95b2"
      },
      "outputs": [
        {
          "output_type": "stream",
          "name": "stdout",
          "text": [
            "humor              1052\n",
            "science_fiction     948\n",
            "Name: topic, dtype: int64\n"
          ]
        }
      ],
      "source": [
        "import pandas as pd\n",
        "url = \"https://raw.githubusercontent.com/alexisperrier/intro2nlp/master/data/brown_corpus_extract_humor_science_fiction.csv\"\n",
        "df = pd.read_csv(url)\n",
        "df.shape\n",
        "\n",
        "print(df.topic.value_counts())"
      ]
    },
    {
      "cell_type": "code",
      "execution_count": null,
      "metadata": {
        "colab": {
          "base_uri": "https://localhost:8080/",
          "height": 206
        },
        "id": "58H74-nQJ4Au",
        "outputId": "fc93d54f-3d26-4249-e56c-f3965cde0c22"
      },
      "outputs": [
        {
          "output_type": "execute_result",
          "data": {
            "text/plain": [
              "             topic                                               text\n",
              "0            humor  They were always leaping to light cigarettes, ...\n",
              "1  science_fiction  No, the fish could eat their bodies for all th...\n",
              "2  science_fiction  Fighting pleasure itself, he begged B'dikkat t...\n",
              "3  science_fiction             that is all I can tell you about them.\n",
              "4            humor  That's one thing I've never done  , she said p..."
            ],
            "text/html": [
              "\n",
              "  <div id=\"df-663bf8f5-46f1-4fd3-8e75-92a4209907d7\" class=\"colab-df-container\">\n",
              "    <div>\n",
              "<style scoped>\n",
              "    .dataframe tbody tr th:only-of-type {\n",
              "        vertical-align: middle;\n",
              "    }\n",
              "\n",
              "    .dataframe tbody tr th {\n",
              "        vertical-align: top;\n",
              "    }\n",
              "\n",
              "    .dataframe thead th {\n",
              "        text-align: right;\n",
              "    }\n",
              "</style>\n",
              "<table border=\"1\" class=\"dataframe\">\n",
              "  <thead>\n",
              "    <tr style=\"text-align: right;\">\n",
              "      <th></th>\n",
              "      <th>topic</th>\n",
              "      <th>text</th>\n",
              "    </tr>\n",
              "  </thead>\n",
              "  <tbody>\n",
              "    <tr>\n",
              "      <th>0</th>\n",
              "      <td>humor</td>\n",
              "      <td>They were always leaping to light cigarettes, ...</td>\n",
              "    </tr>\n",
              "    <tr>\n",
              "      <th>1</th>\n",
              "      <td>science_fiction</td>\n",
              "      <td>No, the fish could eat their bodies for all th...</td>\n",
              "    </tr>\n",
              "    <tr>\n",
              "      <th>2</th>\n",
              "      <td>science_fiction</td>\n",
              "      <td>Fighting pleasure itself, he begged B'dikkat t...</td>\n",
              "    </tr>\n",
              "    <tr>\n",
              "      <th>3</th>\n",
              "      <td>science_fiction</td>\n",
              "      <td>that is all I can tell you about them.</td>\n",
              "    </tr>\n",
              "    <tr>\n",
              "      <th>4</th>\n",
              "      <td>humor</td>\n",
              "      <td>That's one thing I've never done  , she said p...</td>\n",
              "    </tr>\n",
              "  </tbody>\n",
              "</table>\n",
              "</div>\n",
              "    <div class=\"colab-df-buttons\">\n",
              "\n",
              "  <div class=\"colab-df-container\">\n",
              "    <button class=\"colab-df-convert\" onclick=\"convertToInteractive('df-663bf8f5-46f1-4fd3-8e75-92a4209907d7')\"\n",
              "            title=\"Convert this dataframe to an interactive table.\"\n",
              "            style=\"display:none;\">\n",
              "\n",
              "  <svg xmlns=\"http://www.w3.org/2000/svg\" height=\"24px\" viewBox=\"0 -960 960 960\">\n",
              "    <path d=\"M120-120v-720h720v720H120Zm60-500h600v-160H180v160Zm220 220h160v-160H400v160Zm0 220h160v-160H400v160ZM180-400h160v-160H180v160Zm440 0h160v-160H620v160ZM180-180h160v-160H180v160Zm440 0h160v-160H620v160Z\"/>\n",
              "  </svg>\n",
              "    </button>\n",
              "\n",
              "  <style>\n",
              "    .colab-df-container {\n",
              "      display:flex;\n",
              "      gap: 12px;\n",
              "    }\n",
              "\n",
              "    .colab-df-convert {\n",
              "      background-color: #E8F0FE;\n",
              "      border: none;\n",
              "      border-radius: 50%;\n",
              "      cursor: pointer;\n",
              "      display: none;\n",
              "      fill: #1967D2;\n",
              "      height: 32px;\n",
              "      padding: 0 0 0 0;\n",
              "      width: 32px;\n",
              "    }\n",
              "\n",
              "    .colab-df-convert:hover {\n",
              "      background-color: #E2EBFA;\n",
              "      box-shadow: 0px 1px 2px rgba(60, 64, 67, 0.3), 0px 1px 3px 1px rgba(60, 64, 67, 0.15);\n",
              "      fill: #174EA6;\n",
              "    }\n",
              "\n",
              "    .colab-df-buttons div {\n",
              "      margin-bottom: 4px;\n",
              "    }\n",
              "\n",
              "    [theme=dark] .colab-df-convert {\n",
              "      background-color: #3B4455;\n",
              "      fill: #D2E3FC;\n",
              "    }\n",
              "\n",
              "    [theme=dark] .colab-df-convert:hover {\n",
              "      background-color: #434B5C;\n",
              "      box-shadow: 0px 1px 3px 1px rgba(0, 0, 0, 0.15);\n",
              "      filter: drop-shadow(0px 1px 2px rgba(0, 0, 0, 0.3));\n",
              "      fill: #FFFFFF;\n",
              "    }\n",
              "  </style>\n",
              "\n",
              "    <script>\n",
              "      const buttonEl =\n",
              "        document.querySelector('#df-663bf8f5-46f1-4fd3-8e75-92a4209907d7 button.colab-df-convert');\n",
              "      buttonEl.style.display =\n",
              "        google.colab.kernel.accessAllowed ? 'block' : 'none';\n",
              "\n",
              "      async function convertToInteractive(key) {\n",
              "        const element = document.querySelector('#df-663bf8f5-46f1-4fd3-8e75-92a4209907d7');\n",
              "        const dataTable =\n",
              "          await google.colab.kernel.invokeFunction('convertToInteractive',\n",
              "                                                    [key], {});\n",
              "        if (!dataTable) return;\n",
              "\n",
              "        const docLinkHtml = 'Like what you see? Visit the ' +\n",
              "          '<a target=\"_blank\" href=https://colab.research.google.com/notebooks/data_table.ipynb>data table notebook</a>'\n",
              "          + ' to learn more about interactive tables.';\n",
              "        element.innerHTML = '';\n",
              "        dataTable['output_type'] = 'display_data';\n",
              "        await google.colab.output.renderOutput(dataTable, element);\n",
              "        const docLink = document.createElement('div');\n",
              "        docLink.innerHTML = docLinkHtml;\n",
              "        element.appendChild(docLink);\n",
              "      }\n",
              "    </script>\n",
              "  </div>\n",
              "\n",
              "\n",
              "<div id=\"df-9f2b8c57-4fb7-4446-848c-4379df18610d\">\n",
              "  <button class=\"colab-df-quickchart\" onclick=\"quickchart('df-9f2b8c57-4fb7-4446-848c-4379df18610d')\"\n",
              "            title=\"Suggest charts.\"\n",
              "            style=\"display:none;\">\n",
              "\n",
              "<svg xmlns=\"http://www.w3.org/2000/svg\" height=\"24px\"viewBox=\"0 0 24 24\"\n",
              "     width=\"24px\">\n",
              "    <g>\n",
              "        <path d=\"M19 3H5c-1.1 0-2 .9-2 2v14c0 1.1.9 2 2 2h14c1.1 0 2-.9 2-2V5c0-1.1-.9-2-2-2zM9 17H7v-7h2v7zm4 0h-2V7h2v10zm4 0h-2v-4h2v4z\"/>\n",
              "    </g>\n",
              "</svg>\n",
              "  </button>\n",
              "\n",
              "<style>\n",
              "  .colab-df-quickchart {\n",
              "      --bg-color: #E8F0FE;\n",
              "      --fill-color: #1967D2;\n",
              "      --hover-bg-color: #E2EBFA;\n",
              "      --hover-fill-color: #174EA6;\n",
              "      --disabled-fill-color: #AAA;\n",
              "      --disabled-bg-color: #DDD;\n",
              "  }\n",
              "\n",
              "  [theme=dark] .colab-df-quickchart {\n",
              "      --bg-color: #3B4455;\n",
              "      --fill-color: #D2E3FC;\n",
              "      --hover-bg-color: #434B5C;\n",
              "      --hover-fill-color: #FFFFFF;\n",
              "      --disabled-bg-color: #3B4455;\n",
              "      --disabled-fill-color: #666;\n",
              "  }\n",
              "\n",
              "  .colab-df-quickchart {\n",
              "    background-color: var(--bg-color);\n",
              "    border: none;\n",
              "    border-radius: 50%;\n",
              "    cursor: pointer;\n",
              "    display: none;\n",
              "    fill: var(--fill-color);\n",
              "    height: 32px;\n",
              "    padding: 0;\n",
              "    width: 32px;\n",
              "  }\n",
              "\n",
              "  .colab-df-quickchart:hover {\n",
              "    background-color: var(--hover-bg-color);\n",
              "    box-shadow: 0 1px 2px rgba(60, 64, 67, 0.3), 0 1px 3px 1px rgba(60, 64, 67, 0.15);\n",
              "    fill: var(--button-hover-fill-color);\n",
              "  }\n",
              "\n",
              "  .colab-df-quickchart-complete:disabled,\n",
              "  .colab-df-quickchart-complete:disabled:hover {\n",
              "    background-color: var(--disabled-bg-color);\n",
              "    fill: var(--disabled-fill-color);\n",
              "    box-shadow: none;\n",
              "  }\n",
              "\n",
              "  .colab-df-spinner {\n",
              "    border: 2px solid var(--fill-color);\n",
              "    border-color: transparent;\n",
              "    border-bottom-color: var(--fill-color);\n",
              "    animation:\n",
              "      spin 1s steps(1) infinite;\n",
              "  }\n",
              "\n",
              "  @keyframes spin {\n",
              "    0% {\n",
              "      border-color: transparent;\n",
              "      border-bottom-color: var(--fill-color);\n",
              "      border-left-color: var(--fill-color);\n",
              "    }\n",
              "    20% {\n",
              "      border-color: transparent;\n",
              "      border-left-color: var(--fill-color);\n",
              "      border-top-color: var(--fill-color);\n",
              "    }\n",
              "    30% {\n",
              "      border-color: transparent;\n",
              "      border-left-color: var(--fill-color);\n",
              "      border-top-color: var(--fill-color);\n",
              "      border-right-color: var(--fill-color);\n",
              "    }\n",
              "    40% {\n",
              "      border-color: transparent;\n",
              "      border-right-color: var(--fill-color);\n",
              "      border-top-color: var(--fill-color);\n",
              "    }\n",
              "    60% {\n",
              "      border-color: transparent;\n",
              "      border-right-color: var(--fill-color);\n",
              "    }\n",
              "    80% {\n",
              "      border-color: transparent;\n",
              "      border-right-color: var(--fill-color);\n",
              "      border-bottom-color: var(--fill-color);\n",
              "    }\n",
              "    90% {\n",
              "      border-color: transparent;\n",
              "      border-bottom-color: var(--fill-color);\n",
              "    }\n",
              "  }\n",
              "</style>\n",
              "\n",
              "  <script>\n",
              "    async function quickchart(key) {\n",
              "      const quickchartButtonEl =\n",
              "        document.querySelector('#' + key + ' button');\n",
              "      quickchartButtonEl.disabled = true;  // To prevent multiple clicks.\n",
              "      quickchartButtonEl.classList.add('colab-df-spinner');\n",
              "      try {\n",
              "        const charts = await google.colab.kernel.invokeFunction(\n",
              "            'suggestCharts', [key], {});\n",
              "      } catch (error) {\n",
              "        console.error('Error during call to suggestCharts:', error);\n",
              "      }\n",
              "      quickchartButtonEl.classList.remove('colab-df-spinner');\n",
              "      quickchartButtonEl.classList.add('colab-df-quickchart-complete');\n",
              "    }\n",
              "    (() => {\n",
              "      let quickchartButtonEl =\n",
              "        document.querySelector('#df-9f2b8c57-4fb7-4446-848c-4379df18610d button');\n",
              "      quickchartButtonEl.style.display =\n",
              "        google.colab.kernel.accessAllowed ? 'block' : 'none';\n",
              "    })();\n",
              "  </script>\n",
              "</div>\n",
              "    </div>\n",
              "  </div>\n"
            ]
          },
          "metadata": {},
          "execution_count": 5
        }
      ],
      "source": [
        "df.head()"
      ]
    },
    {
      "cell_type": "markdown",
      "metadata": {
        "id": "PEuVcm7sJ4Au"
      },
      "source": [
        "## Load spacy\n"
      ]
    },
    {
      "cell_type": "code",
      "execution_count": null,
      "metadata": {
        "id": "OFkhgmf5J4Au"
      },
      "outputs": [],
      "source": [
        "import spacy\n",
        "nlp = spacy.load(\"en_core_web_sm\")"
      ]
    },
    {
      "cell_type": "markdown",
      "metadata": {
        "id": "C0yRqVarJ4Au"
      },
      "source": [
        "Define a function that\n",
        "\n",
        "- removes stopwords\n",
        "- removes punctuation signs\n",
        "- lemmatizes the text\n"
      ]
    },
    {
      "cell_type": "code",
      "execution_count": null,
      "metadata": {
        "id": "2OYwiA-iJ4Au"
      },
      "outputs": [],
      "source": [
        "def preprocess(text):\n",
        "    doc = nlp(text)\n",
        "    tokens = [token.lemma_ for token in doc if not (token.is_stop or token.is_punct)]\n",
        "    return ' '.join(tokens)\n"
      ]
    },
    {
      "cell_type": "code",
      "execution_count": null,
      "metadata": {
        "colab": {
          "base_uri": "https://localhost:8080/"
        },
        "id": "0nDJ5kYgJ4Au",
        "outputId": "66b1e9af-be46-46a1-f9f7-764fa89f10e0"
      },
      "outputs": [
        {
          "output_type": "stream",
          "name": "stdout",
          "text": [
            "good time leave care\n"
          ]
        }
      ],
      "source": [
        "text = '''These are the good times; Leave your cares behind'''\n",
        "print(preprocess(text))"
      ]
    },
    {
      "cell_type": "markdown",
      "metadata": {
        "id": "Sdh6tb2OJ4Av"
      },
      "source": [
        "Add a couple of punctuation signs with multi charaters as stopwords to the ```nlp``` spacy model"
      ]
    },
    {
      "cell_type": "code",
      "execution_count": null,
      "metadata": {
        "id": "Snri6nBUJ4Av"
      },
      "outputs": [],
      "source": [
        "nlp.Defaults.stop_words.add(\"`,\")\n",
        "nlp.Defaults.stop_words.add(\"``\")"
      ]
    },
    {
      "cell_type": "markdown",
      "metadata": {
        "id": "ScOM8IgaJ4Av"
      },
      "source": [
        "Let's apply our preprocess function to the simplified Brown Corpus"
      ]
    },
    {
      "cell_type": "code",
      "execution_count": null,
      "metadata": {
        "id": "iH0Zo67WJ4Av"
      },
      "outputs": [],
      "source": [
        "df['processed_text'] = df.text.apply(lambda txt : preprocess(txt))"
      ]
    },
    {
      "cell_type": "markdown",
      "metadata": {
        "id": "PdnFFXhLJ4Av"
      },
      "source": [
        "short text with just a few tokens won't have enough information for the classification model that we want to train. Let's add a count of the number of tokens for each text and filter out the text with less than N tokens."
      ]
    },
    {
      "cell_type": "code",
      "execution_count": null,
      "metadata": {
        "id": "Ik5hyuhBJ4Av"
      },
      "outputs": [],
      "source": [
        "df['token_count'] = df.processed_text.apply(lambda txt : len(txt.split())  )"
      ]
    },
    {
      "cell_type": "code",
      "execution_count": null,
      "metadata": {
        "colab": {
          "base_uri": "https://localhost:8080/"
        },
        "id": "REWtEC2xJ4Av",
        "outputId": "06b0f96b-d552-418e-f6d9-9b4acc00bf93"
      },
      "outputs": [
        {
          "output_type": "execute_result",
          "data": {
            "text/plain": [
              "count    2000.000000\n",
              "mean        6.750500\n",
              "std         5.484641\n",
              "min         0.000000\n",
              "25%         3.000000\n",
              "50%         5.000000\n",
              "75%         9.000000\n",
              "max        46.000000\n",
              "Name: token_count, dtype: float64"
            ]
          },
          "metadata": {},
          "execution_count": 12
        }
      ],
      "source": [
        "df.token_count.describe()"
      ]
    },
    {
      "cell_type": "code",
      "execution_count": null,
      "metadata": {
        "id": "F9hGhEfSJ4Av"
      },
      "outputs": [],
      "source": [
        "df.token_count.hist(bins = 100)"
      ]
    },
    {
      "cell_type": "markdown",
      "metadata": {
        "id": "7bStobmYJ4Av"
      },
      "source": [
        "Let's remove texts that have less than 4 tokens"
      ]
    },
    {
      "cell_type": "code",
      "execution_count": null,
      "metadata": {
        "id": "dBJnDivyJ4Av"
      },
      "outputs": [],
      "source": [
        "df = df[df.token_count > 4]\n",
        "df.reset_index(inplace = True, drop = True)"
      ]
    },
    {
      "cell_type": "code",
      "execution_count": null,
      "metadata": {
        "id": "nuIoDEbFJ4Av"
      },
      "outputs": [],
      "source": [
        "df[df.token_count > 4].topic.value_counts()"
      ]
    },
    {
      "cell_type": "markdown",
      "metadata": {
        "id": "zZ2Phl3LJ4Av"
      },
      "source": [
        "## Vectorize the Data"
      ]
    },
    {
      "cell_type": "code",
      "execution_count": null,
      "metadata": {
        "id": "oOD0XU3lJ4Av"
      },
      "outputs": [],
      "source": [
        "from sklearn.feature_extraction.text import CountVectorizer\n",
        "cv = CountVectorizer()\n",
        "X = cv.fit_transform(df.processed_text)"
      ]
    },
    {
      "cell_type": "markdown",
      "metadata": {
        "id": "-krG89r2J4Av"
      },
      "source": [
        "X is now a sparse matrix of 1161 rows by 4732 columns"
      ]
    },
    {
      "cell_type": "code",
      "execution_count": null,
      "metadata": {
        "colab": {
          "base_uri": "https://localhost:8080/"
        },
        "id": "0Fy7lf2RJ4Av",
        "outputId": "8beb5428-d3ec-48db-d705-e46ca9a1c823"
      },
      "outputs": [
        {
          "output_type": "execute_result",
          "data": {
            "text/plain": [
              "(1161, 4732)"
            ]
          },
          "metadata": {},
          "execution_count": 17
        }
      ],
      "source": [
        "X.shape"
      ]
    },
    {
      "cell_type": "markdown",
      "metadata": {
        "id": "zl6kgh7DJ4Av"
      },
      "source": [
        "Transform the topic from string to integer"
      ]
    },
    {
      "cell_type": "code",
      "execution_count": null,
      "metadata": {
        "id": "0y11ZS_zJ4Av"
      },
      "outputs": [],
      "source": [
        "df.loc[df.topic == 'humor', 'topic' ] = 0\n",
        "df.loc[df.topic == 'science_fiction', 'topic' ] = 1\n",
        "df.topic = df.topic.astype(int)\n",
        "# define the target variable\n",
        "y = df.topic"
      ]
    },
    {
      "cell_type": "code",
      "execution_count": null,
      "metadata": {
        "colab": {
          "base_uri": "https://localhost:8080/"
        },
        "id": "AHISR-H0J4Aw",
        "outputId": "927dbe52-d058-404e-d08b-da24339f1854"
      },
      "outputs": [
        {
          "output_type": "execute_result",
          "data": {
            "text/plain": [
              "0       0\n",
              "1       1\n",
              "2       1\n",
              "3       0\n",
              "4       1\n",
              "       ..\n",
              "1156    0\n",
              "1157    0\n",
              "1158    1\n",
              "1159    1\n",
              "1160    1\n",
              "Name: topic, Length: 1161, dtype: int64"
            ]
          },
          "metadata": {},
          "execution_count": 19
        }
      ],
      "source": [
        "y"
      ]
    },
    {
      "cell_type": "code",
      "execution_count": null,
      "metadata": {
        "colab": {
          "base_uri": "https://localhost:8080/"
        },
        "id": "_KgLidksJ4Aw",
        "outputId": "e4c29d8f-d6a4-4f68-afc0-09c958af8641"
      },
      "outputs": [
        {
          "output_type": "execute_result",
          "data": {
            "text/plain": [
              "<1161x4732 sparse matrix of type '<class 'numpy.int64'>'\n",
              "\twith 11296 stored elements in Compressed Sparse Row format>"
            ]
          },
          "metadata": {},
          "execution_count": 20
        }
      ],
      "source": [
        "X"
      ]
    },
    {
      "cell_type": "markdown",
      "metadata": {
        "id": "ufB_znE6J4Aw"
      },
      "source": [
        "## Train a classifier"
      ]
    },
    {
      "cell_type": "code",
      "execution_count": null,
      "metadata": {
        "colab": {
          "base_uri": "https://localhost:8080/"
        },
        "id": "bp0RAP1hJ4Aw",
        "outputId": "0cbe2981-0e6e-4a22-fdd4-fc3a07fa2682"
      },
      "outputs": [
        {
          "output_type": "stream",
          "name": "stdout",
          "text": [
            "Accuracy:  0.9879414298018949\n"
          ]
        }
      ],
      "source": [
        "from sklearn.naive_bayes import MultinomialNB\n",
        "from sklearn.metrics import accuracy_score\n",
        "\n",
        "# 1. Declare the model\n",
        "clf = MultinomialNB()\n",
        "\n",
        "# 2. Train the model\n",
        "clf.fit(X, y)\n",
        "\n",
        "# 3. Make predictions\n",
        "yhat = clf.predict(X)\n",
        "\n",
        "# 4. score\n",
        "print(\"Accuracy: \",accuracy_score(y, yhat))"
      ]
    },
    {
      "cell_type": "markdown",
      "metadata": {
        "id": "B4Uh6IsaJ4Aw"
      },
      "source": [
        "To really train a classifier, we need to split the data in two parts: a training subset on which we train the model and a test set on which we evaluate the model.\n",
        "\n",
        "The test set simulates data that the model has not seen during its training and gives us a way to measure how the model extrapolates on unseen data.\n",
        "\n",
        "We need to split the data after we've vectorized the text, otherwise sont tokens may be present in the test set but not in the training set.\n",
        "\n",
        "To split the data into a train and a test set we use scikit's [train_test_split](https://scikit-learn.org/stable/modules/generated/sklearn.model_selection.train_test_split.html) function.\n",
        "\n"
      ]
    },
    {
      "cell_type": "code",
      "execution_count": null,
      "metadata": {
        "id": "Cl5UrqQ-J4Aw"
      },
      "outputs": [],
      "source": [
        "from sklearn.model_selection import train_test_split\n",
        "\n",
        "X_train, X_test, y_train, y_test = train_test_split(X, y, test_size=0.33, random_state=42)"
      ]
    },
    {
      "cell_type": "code",
      "execution_count": null,
      "metadata": {
        "colab": {
          "base_uri": "https://localhost:8080/"
        },
        "id": "2Q52VDgpJ4Aw",
        "outputId": "84d95690-a766-424f-dbc4-fad59001f1f9"
      },
      "outputs": [
        {
          "output_type": "stream",
          "name": "stdout",
          "text": [
            "(777, 4732)\n",
            "(384, 4732)\n"
          ]
        }
      ],
      "source": [
        "print(X_train.shape)\n",
        "print(X_test.shape)"
      ]
    },
    {
      "cell_type": "markdown",
      "metadata": {
        "id": "zcnUveA1J4Aw"
      },
      "source": [
        "Let's train the same model, this time on the train set and evaluate it on the test set\n",
        "\n"
      ]
    },
    {
      "cell_type": "code",
      "execution_count": null,
      "metadata": {
        "colab": {
          "base_uri": "https://localhost:8080/"
        },
        "id": "CWV6xVRUJ4Aw",
        "outputId": "6a5d04c4-eb5a-40e0-874d-12f0f8940f73"
      },
      "outputs": [
        {
          "output_type": "stream",
          "name": "stdout",
          "text": [
            "Accuracy:  0.8229166666666666\n"
          ]
        }
      ],
      "source": [
        "# 1. Declare the model\n",
        "clf = MultinomialNB()\n",
        "\n",
        "# 2. Train the model\n",
        "clf.fit(X_train, y_train)\n",
        "\n",
        "# 3. Make predictions  on test set\n",
        "yhat = clf.predict(X_test)\n",
        "\n",
        "# 4. score\n",
        "print(\"Accuracy: \",accuracy_score(y_test, yhat))"
      ]
    },
    {
      "cell_type": "markdown",
      "metadata": {
        "id": "jJ0Wr8pHJ4Aw"
      },
      "source": [
        "The accuracy is down to 77.4% which makes more sense than the outstanding 98% we previously obtained."
      ]
    },
    {
      "cell_type": "markdown",
      "metadata": {
        "id": "2LBt6xDGJ4Aw"
      },
      "source": [
        "# tf-idf\n",
        "\n",
        "Let's now compare the model performance when we use a tf-idf vectorization approach instead of a simple tf / count vectorizer.\n",
        "\n",
        "The code is similar and we use scikit's default parameter for [TfidfVectorizer](https://scikit-learn.org/stable/modules/generated/sklearn.feature_extraction.text.TfidfVectorizer.html)"
      ]
    },
    {
      "cell_type": "code",
      "execution_count": null,
      "metadata": {
        "colab": {
          "base_uri": "https://localhost:8080/"
        },
        "id": "SFhV_4hfJ4Ax",
        "outputId": "f2a93858-7142-4f44-bc2b-f697b113dd43"
      },
      "outputs": [
        {
          "output_type": "stream",
          "name": "stdout",
          "text": [
            "Accuracy:  0.7890625\n"
          ]
        }
      ],
      "source": [
        "from sklearn.feature_extraction.text import TfidfVectorizer\n",
        "cv = TfidfVectorizer()\n",
        "X = cv.fit_transform(df.processed_text)\n",
        "y = df.topic\n",
        "\n",
        "# split test train\n",
        "X_train, X_test, y_train, y_test = train_test_split(X, y, test_size=0.33, random_state=42)\n",
        "\n",
        "# train and evaluate the model\n",
        "# 1. Declare the model\n",
        "clf = MultinomialNB()\n",
        "\n",
        "# 2. Train the model\n",
        "clf.fit(X_train, y_train)\n",
        "\n",
        "# 3. Make predictions  on test set\n",
        "yhat = clf.predict(X_test)\n",
        "\n",
        "# 4. score\n",
        "print(\"Accuracy: \",accuracy_score(y_test, yhat))"
      ]
    },
    {
      "cell_type": "markdown",
      "metadata": {
        "id": "lhIsE0QzJ4Ax"
      },
      "source": [
        "In this particular case, not much difference between the 2 vectorizers."
      ]
    },
    {
      "cell_type": "code",
      "execution_count": null,
      "metadata": {
        "id": "O1U-QRBtJ4Ax"
      },
      "outputs": [],
      "source": []
    }
  ],
  "metadata": {
    "kernelspec": {
      "display_name": "Python 3 (ipykernel)",
      "language": "python",
      "name": "python3"
    },
    "language_info": {
      "codemirror_mode": {
        "name": "ipython",
        "version": 3
      },
      "file_extension": ".py",
      "mimetype": "text/x-python",
      "name": "python",
      "nbconvert_exporter": "python",
      "pygments_lexer": "ipython3",
      "version": "3.9.7"
    },
    "colab": {
      "provenance": [],
      "include_colab_link": true
    }
  },
  "nbformat": 4,
  "nbformat_minor": 0
}
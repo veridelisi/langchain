{
  "nbformat": 4,
  "nbformat_minor": 0,
  "metadata": {
    "colab": {
      "provenance": [],
      "include_colab_link": true
    },
    "kernelspec": {
      "name": "python3",
      "display_name": "Python 3"
    },
    "language_info": {
      "name": "python"
    }
  },
  "cells": [
    {
      "cell_type": "markdown",
      "metadata": {
        "id": "view-in-github",
        "colab_type": "text"
      },
      "source": [
        "<a href=\"https://colab.research.google.com/github/veridelisi/langchain/blob/main/4)_Document_Loader_Langchain.ipynb\" target=\"_parent\"><img src=\"https://colab.research.google.com/assets/colab-badge.svg\" alt=\"Open In Colab\"/></a>"
      ]
    },
    {
      "cell_type": "markdown",
      "source": [
        "What you will learn:\n",
        "\n",
        "- Document Loading a PDF\n",
        "- Document Loading a CSV\n",
        "\n",
        "## Make sure you import the two files\n",
        "- state.txt\n",
        "- bank.pdf"
      ],
      "metadata": {
        "id": "ISBcUW2yfrHY"
      }
    },
    {
      "cell_type": "code",
      "execution_count": null,
      "metadata": {
        "id": "B39ZlaBxKQMa"
      },
      "outputs": [],
      "source": [
        "!pip install -qU langchain openai tiktoken faiss-cpu pypdf chromadb nltk"
      ]
    },
    {
      "cell_type": "code",
      "source": [
        "from langchain.document_loaders.csv_loader import CSVLoader\n",
        "from langchain.text_splitter import CharacterTextSplitter, RecursiveCharacterTextSplitter\n",
        "from langchain.vectorstores import FAISS\n",
        "from langchain.embeddings import OpenAIEmbeddings\n",
        "from langchain.document_loaders import TextLoader\n",
        "from langchain.llms import OpenAI\n",
        "import os\n",
        "from langchain.chains.summarize import load_summarize_chain\n",
        "from langchain.document_loaders import PyPDFLoader\n",
        "\n",
        "OPENAI_API_KEY = \"......\"\n",
        "\n",
        "llm = OpenAI(temperature=0, openai_api_key=OPENAI_API_KEY)"
      ],
      "metadata": {
        "id": "mudUjjQ8aTZd"
      },
      "execution_count": 2,
      "outputs": []
    },
    {
      "cell_type": "code",
      "source": [
        "loader = TextLoader('./sample_data/veri.txt')\n",
        "\n",
        "documents = loader.load()\n",
        "\n",
        "print(documents)\n"
      ],
      "metadata": {
        "id": "Q5wmxNFrZg7b"
      },
      "execution_count": null,
      "outputs": []
    },
    {
      "cell_type": "markdown",
      "source": [
        "**chunk_size:** the maximum size of your chunks (as measured by the length function).\n",
        "\n",
        "**chunk_overlap:** the maximum overlap between chunks. It can be nice to have some overlap to maintain some continuity between chunks (eg do a sliding window)."
      ],
      "metadata": {
        "id": "UTgQWFsx5aWp"
      }
    },
    {
      "cell_type": "code",
      "source": [
        "text_splitter = RecursiveCharacterTextSplitter(chunk_size=200, chunk_overlap=0)\n",
        "\n",
        "texts = text_splitter.split_documents(documents)\n",
        "\n",
        "print(texts)"
      ],
      "metadata": {
        "id": "ltU4TPWB4Cy5",
        "colab": {
          "base_uri": "https://localhost:8080/"
        },
        "outputId": "5d797312-1bd7-42af-8697-e81b1a46cf96"
      },
      "execution_count": 4,
      "outputs": [
        {
          "output_type": "stream",
          "name": "stdout",
          "text": [
            "[Document(page_content='İspanyolca yazıldığı gibi mi okunur ? Evet genel olarak yazıldığı gibi okunur. Google çeviriye girip hangi kelimenin nasıl okunduğunu rahatlıkla görebilirsiniz. Google çeviriye şu adresten girin ve', metadata={'source': './sample_data/veri.txt'}), Document(page_content='resim üzerinde işaretlediğim ses ikonuna tıklayın.', metadata={'source': './sample_data/veri.txt'}), Document(page_content='İspanyolca okunuşu ve yazılışı aynı mı?', metadata={'source': './sample_data/veri.txt'}), Document(page_content='Bu sitede ispanyolca kelimelerin okunuşlarını dinleyebilir miyim ? Evet web sitemiz içerisinde bulunan ispanyolca yazılı kelimelerin okunuşlarını aşağıdaki dinleme aracını ve videoları gördüğünüz', metadata={'source': './sample_data/veri.txt'}), Document(page_content='yerlerde dinleyebilirsiniz. Hadi tıklayın ve izleyen ispanyolca kelimelerin nasıl okunduğunu kendi kulağınızla dinleyin ve izleyin ! Hola, Buenos Días, Buenas Tardes, Buenas Noches', metadata={'source': './sample_data/veri.txt'}), Document(page_content='İspanyolca okunuşu ve yazılışı aynı mı? Evet genel olarak okunuşu ve yazılışı aynıdır. Basit ispanyolca derslerimizin hepsinde videolu anlatım yapılmıştır. Tıklayın ve görün.', metadata={'source': './sample_data/veri.txt'}), Document(page_content='İspanyolca harfler nasıl okunur? İlk iki sorudan tatmin olmadığınızı anlıyorum. Sıkıntı yok. Web sitemiz içerisinde hem nasıl okundukları göreceksiniz hem de videoda izleyeceksiniz. Tıklayın.', metadata={'source': './sample_data/veri.txt'}), Document(page_content='İspanyolca kelimeler nasıl okunur ? İlk üç sorunun cevaplarından tatmin olmadığınızı görüyorum. Herşeyin çözümü var. Web sitemiz içerisinde bu konu için özellikli video hazırladık. Bu videolardaki', metadata={'source': './sample_data/veri.txt'}), Document(page_content='sesler Carlos III de Madrid Üniversitesinin Ekonomi bölümünde çalışan sekretarya görevlilerine aittir. ispanyolca h nasıl okunur ? ispanyolca j nasıl okunur ? ispanyolca b okunur ? İspanyolca ll', metadata={'source': './sample_data/veri.txt'}), Document(page_content='nasıl okunur ? ispanyolca ch nasıl okunur ? gibi tüm sorulara cevap niteliğindedir. Artık sormayın.:)', metadata={'source': './sample_data/veri.txt'}), Document(page_content='İspanyolca öğrenmek zor mu? Hayır eğer gerçekten öğrenmek istiyorsanız kesinlikle zor değildir. Kendimden örnek vermek isterim. İzmir de 1999 yılında ispanyolca kursu yokken bir sözlük alarak', metadata={'source': './sample_data/veri.txt'}), Document(page_content='başlamıştım. Türkçe internet sitesi de yoktu. Kısa süreli bir çalışma ile basit düzeyde ispanyolca öğrenebilirsiniz.', metadata={'source': './sample_data/veri.txt'}), Document(page_content='İspanyolca öğrenmek türkler için zor mudur ? Aksine daha kolaydır. Mesela fiil çekim yapısı türkçeye benzer. İngilizcenin sıkıcılığından kurtulun artık.', metadata={'source': './sample_data/veri.txt'}), Document(page_content='İspanyolca öğrenmeye değer mi ? Dünya üzerinde 21 ülkede 500 milyondan fazla kişi bu dili konuşuyor. Bence değer.', metadata={'source': './sample_data/veri.txt'}), Document(page_content='Neden ispanyolca öğrenmek istiyorum ? Yahu ne bileyim. 🙂', metadata={'source': './sample_data/veri.txt'}), Document(page_content='İspanyolca öğrenmek ne işe yarar ? Dünyada en fazla konuşulan üçüncü dili bilmek dünya pazarında sizi bir adım daha ön plana çıkaracaktır. Bu dili bilmem sayesinde Jean Monnet burslarında ispanyolca', metadata={'source': './sample_data/veri.txt'}), Document(page_content='kategorisinden 1 senelik araştırma bursu kazandım. Gördüğünüz kişi Jean Monnet bursunu ispanyolca üzerinden kazan ilk kişiyim. Benim haricimde yıllar sonra 1 kişi daha kazanmış. Bir de MEB Meksika', metadata={'source': './sample_data/veri.txt'}), Document(page_content='burslarını ispanyolcadan kazanmıştım. İspanyolca sayesinde iki kez yurtdışı burs kazandım. İspanyolca öğrenmek işe yarar mı ? Siz söyleyin.Jean Monnet Bursu İspanyolca', metadata={'source': './sample_data/veri.txt'}), Document(page_content='İspanyolca öğrenmeye nereden başlanır ? İspanyolca öğrenmeye nereden başlamalıyım ? Bu web sitesindeki basit ispanyolca derslerini bitirerek başlayabilirsiniz. Bu dersleri hem yazılı hem de video', metadata={'source': './sample_data/veri.txt'}), Document(page_content='şeklinde izleyebilirsiniz. Severseniz devam edin. Hoşunuza gitmezse hiç başlamayın.', metadata={'source': './sample_data/veri.txt'}), Document(page_content='İspanyolca öğrenmek için ne yapmalıyım? Basit ispanyolca derslerini izlediniz ve ispanyolca hoşunuza gitti. Şimdi ispanyolca öğrenmek konusunda ilk adımı atın ve 2013 yılında yayımlanan “Yeni', metadata={'source': './sample_data/veri.txt'}), Document(page_content='Başlayanlar için Temel İspanyolca” kitabının belli bir bölümünü içeren e-kitabı bu bağlantıdan indirin. İspanyolca öğrenme kitabı pdf dir.', metadata={'source': './sample_data/veri.txt'}), Document(page_content='Ücretsiz ispanyolca öğrenmek istiyorum ? “Yeni Başlayanlar için Temel İspanyolca” kitabının belli bir bölümünü içeren e-kitabı bu bağlantıdan indirin. Önce öğrenmek isteyip istemediğinize karar', metadata={'source': './sample_data/veri.txt'}), Document(page_content='verin. Eğer severseniz kitabın yeni baskısını alabilirsiniz. İspanyolca öğrenmek için en iyi kitap “Yeni Başlayanlar için Temel İspanyolca” dır.', metadata={'source': './sample_data/veri.txt'}), Document(page_content='İspanyolca öğrenme kitabı arıyorum? “Yeni Başlayanlar için Temel İspanyolca” kitabının belli bir bölümünü içeren e-kitabı bu bağlantıdan indirin.', metadata={'source': './sample_data/veri.txt'}), Document(page_content='0 dan ispanyolca öğrenmek mümkün müdür ? 0 dan öğrenmek istiyorsanız bu web sitesindeki basit ispanyolca dersleriyle başlayın. Eğer hoşunuza giderse “Yeni Başlayanlar için Temel İspanyolca” kitabının', metadata={'source': './sample_data/veri.txt'}), Document(page_content='belli bir bölümünü içeren e-kitabı bu bağlantıdan indirin. İspanyolcayı sevmeye başladınız o zaman Yeni Başlayanlar için 2 Dakika Temel İspanyolca kursumu tavsiye ederim.', metadata={'source': './sample_data/veri.txt'}), Document(page_content='Dünyanın yüzde kaçı İspanyolca konuşuyor? 2021 yılı için Dünyanın yüzde %7’si İspanyolca konuşuyor.', metadata={'source': './sample_data/veri.txt'}), Document(page_content='İspanyolca çeviri, ispanyolca-türkçe çeviri ve ispanyolca türkçe çeviri konularında yardım eder misiniz? Çeviri bizim işimiz. Şuraya bakın.', metadata={'source': './sample_data/veri.txt'})]\n"
          ]
        }
      ]
    },
    {
      "cell_type": "code",
      "source": [
        "os.environ[\"OPENAI_API_KEY\"] = \".......\"\n",
        "\n",
        "embeddings = OpenAIEmbeddings()\n",
        "\n",
        "db = FAISS.from_documents(texts, embeddings)\n",
        "\n",
        "retriever = db.as_retriever()\n",
        "\n",
        "docs = retriever.get_relevant_documents(\"ispanyolca kolay mı?\")\n",
        "\n",
        "##\n",
        "print(docs)"
      ],
      "metadata": {
        "id": "6DciKc2x4QJu",
        "colab": {
          "base_uri": "https://localhost:8080/"
        },
        "outputId": "9ffc4faa-e5b6-48ee-8cab-9571e4d906f1"
      },
      "execution_count": 13,
      "outputs": [
        {
          "output_type": "stream",
          "name": "stdout",
          "text": [
            "[Document(page_content='İspanyolca okunuşu ve yazılışı aynı mı?', metadata={'source': './sample_data/veri.txt'}), Document(page_content='İspanyolca öğrenmek türkler için zor mudur ? Aksine daha kolaydır. Mesela fiil çekim yapısı türkçeye benzer. İngilizcenin sıkıcılığından kurtulun artık.', metadata={'source': './sample_data/veri.txt'}), Document(page_content='Neden ispanyolca öğrenmek istiyorum ? Yahu ne bileyim. 🙂', metadata={'source': './sample_data/veri.txt'}), Document(page_content='İspanyolca okunuşu ve yazılışı aynı mı? Evet genel olarak okunuşu ve yazılışı aynıdır. Basit ispanyolca derslerimizin hepsinde videolu anlatım yapılmıştır. Tıklayın ve görün.', metadata={'source': './sample_data/veri.txt'})]\n"
          ]
        }
      ]
    },
    {
      "cell_type": "code",
      "source": [
        "chain = load_summarize_chain(llm, chain_type=\"map_reduce\")\n",
        "chain.run(docs)"
      ],
      "metadata": {
        "id": "ShPm1526dKs3",
        "colab": {
          "base_uri": "https://localhost:8080/",
          "height": 71
        },
        "outputId": "38f7ce1f-0ffd-4ed2-c48e-943744c74b11"
      },
      "execution_count": 14,
      "outputs": [
        {
          "output_type": "execute_result",
          "data": {
            "text/plain": [
              "' Bu soru, İspanyolca kelimelerinin okunuşu ve yazılışı arasındaki farkı sorgulamaktadır. Videolu anlatımlarla desteklenen basit İspanyolca dersleri sunulmaktadır. İspanyolca öğrenmek Türkler için kolaydır çünkü fiil çekim yapısı Türkçeye benzer.'"
            ],
            "application/vnd.google.colaboratory.intrinsic+json": {
              "type": "string"
            }
          },
          "metadata": {},
          "execution_count": 14
        }
      ]
    },
    {
      "cell_type": "code",
      "source": [
        "loader = PyPDFLoader('./sample_data/engin_yilmaz_parayi_kim_yaratir.pdf')\n",
        "pages = loader.load_and_split()\n",
        "print(pages[0])"
      ],
      "metadata": {
        "id": "WHNPrTgYe2uf",
        "colab": {
          "base_uri": "https://localhost:8080/"
        },
        "outputId": "4993502a-0652-4917-dc13-ba5b731768ac"
      },
      "execution_count": 15,
      "outputs": [
        {
          "output_type": "stream",
          "name": "stdout",
          "text": [
            "page_content='Parayı Kim Yaratır? \\nDr. ENGİN YILMAZ \\nAnkara Üniversitesi \\nLatin Amerika Çalışmaları Araştırma ve Uygulama Merkezi \\nenginyilmaz@ankara.edu.tr \\nhttps://orcid.org/0000-0001-7765-430X \\nGönderilme Tarihi: 14.04.2020  Kabul Tarihi: 29.04.2020 \\nÖz \\nTüm dünyayı etkisi altına alan Covid-19 virüsünün olumsuz ekonomik etkilerine karşı, birçok \\nülke ekonomik önlemler almıştır. Bu tedbirler temel olarak, üretimden kaynaklı bir düşüşün ortaya \\nçıkaracağı vahim durumu önlemeye yöneliktir. Bu ülkeler, ekonomideki harcama kanalını des -\\ntekleyerek bahsi geçen durumu minimize etmeye çalışmaktadırlar. İşsiz kalanların desteklenmesi, \\nfinansal piyasalardaki likidite sıkışıklıklarının giderilmesi ve üretim zincirlerinde ortaya çıkacak \\nfinansal sorunların giderilmesi için ekonomik paketler açıklanmıştır. Vatandaşlar açısından, dev -\\nletin nasıl kaynak bulduğu ve bu büyük harcamaları nasıl yaptığı konusu açık değildir. Aynı za -\\nmanda bu konu ekonomik literatürde de somut olarak ortaya konulmamıştır. Ne ekonomi kitapları \\nne de gazeteler, devletin nasıl kaynak bulduğunu ve bu büyük harcamaları nasıl yaptığını açık -\\nlayamamaktadır. Bu çalışmada, paranın nasıl yaratıldığı anlatılacak, ana akım teorinin paranın \\nnasıl yaratıldığına ilişkin hataları ortaya konulacak ve krize karşı ülkelerin bu büyük ekonomik \\nharcamaları nasıl yaptıkları açıklanacaktır. \\nAnahtar Kelimeler: Para, Para Politikası, Amerikan Merkez Bankası. \\nJEL Sınıflandırması: E50, E52, E58. \\nWho Creates The Money? \\nAbstract \\nMany countries have taken economic measures against the negative economic effects of Covid- \\n19 virus, which has affected the whole world. These measures are basically aimed at reducing \\nthe serious negative effects caused by decreasing production. These countries are trying to mini -\\nmize the losses by increased the spending in the economy. The economic packages have been just \\nannounced. These packages aim to support the unemployed, to eliminate the liquidity shortages \\nin financial markets and to prevent the financial problems that would arise in the production \\nchains. It is unclear to people how states have found the resources or can make these big expen -\\nditures. This is also unclear in the economic literature. Neither books nor the newspapers can ex -\\nplain the how states have found the resources or can make these expenditures. This study explains \\nhow money is created, reveals the errors of mainstream theory on this issue and clarifies how \\ncountries can make big economic expenditures against crisis. \\nKeywords: Money, Monetary Policy, Federal Reserve (FED). \\nJEL Classification: E50, E52, E58. \\n50 VERGİ DÜNYASI, YIL 39, SAYI 466, HAZİRAN 2020 H\\nA\\nK\\nE\\nM\\nL\\nİ\\nM\\nA\\nK\\nA\\nLEhaziran2020:Layout 1  30.05.2020  18:33  Page 50' metadata={'source': './sample_data/engin_yilmaz_parayi_kim_yaratir.pdf', 'page': 0}\n"
          ]
        }
      ]
    },
    {
      "cell_type": "code",
      "source": [
        "from langchain.indexes import VectorstoreIndexCreator\n",
        "index = VectorstoreIndexCreator().from_loaders([loader])\n"
      ],
      "metadata": {
        "id": "bxwN0kzKfNjP"
      },
      "execution_count": 16,
      "outputs": []
    },
    {
      "cell_type": "code",
      "source": [
        "query = \"Makalenin özü nedir\"\n",
        "index.query(query)"
      ],
      "metadata": {
        "id": "mfWvschtgV9N",
        "colab": {
          "base_uri": "https://localhost:8080/",
          "height": 71
        },
        "outputId": "2e75e235-2198-49cd-be55-51efff7b2092"
      },
      "execution_count": 17,
      "outputs": [
        {
          "output_type": "execute_result",
          "data": {
            "text/plain": [
              "' Makalede, paranın ne olduğu, bankalar tarafından nasıl yaratıldığı, Türkiye özelinde paranın nasıl yaratıldığı ve ABD özelinde krizler karşısında devletlerin paranın nasıl yaratıldığı konularının incelendiği ve bunların nasıl etkilediği açıklanmıştır.'"
            ],
            "application/vnd.google.colaboratory.intrinsic+json": {
              "type": "string"
            }
          },
          "metadata": {},
          "execution_count": 17
        }
      ]
    },
    {
      "cell_type": "code",
      "source": [
        "query = \"Bankalar parayı nasıl yaratır kredi vererek mi mevduat toplayarak mı?\"\n",
        "index.query(query)"
      ],
      "metadata": {
        "colab": {
          "base_uri": "https://localhost:8080/",
          "height": 35
        },
        "id": "RtXdiaY0yrDv",
        "outputId": "3feb94fb-d5b1-4ed6-90dd-4792c27b068e"
      },
      "execution_count": 20,
      "outputs": [
        {
          "output_type": "execute_result",
          "data": {
            "text/plain": [
              "' Bankalar kredi vererek mevduat yaratır.'"
            ],
            "application/vnd.google.colaboratory.intrinsic+json": {
              "type": "string"
            }
          },
          "metadata": {},
          "execution_count": 20
        }
      ]
    }
  ]
}
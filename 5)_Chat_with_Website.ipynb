{
  "nbformat": 4,
  "nbformat_minor": 0,
  "metadata": {
    "colab": {
      "provenance": [],
      "include_colab_link": true
    },
    "kernelspec": {
      "name": "python3",
      "display_name": "Python 3"
    },
    "language_info": {
      "name": "python"
    }
  },
  "cells": [
    {
      "cell_type": "markdown",
      "metadata": {
        "id": "view-in-github",
        "colab_type": "text"
      },
      "source": [
        "<a href=\"https://colab.research.google.com/github/veridelisi/langchain/blob/main/5)_Chat_with_Website.ipynb\" target=\"_parent\"><img src=\"https://colab.research.google.com/assets/colab-badge.svg\" alt=\"Open In Colab\"/></a>"
      ]
    },
    {
      "cell_type": "code",
      "execution_count": null,
      "metadata": {
        "id": "4I9WNYmHZxDz"
      },
      "outputs": [],
      "source": [
        "!pip install -qU langchain openai\n",
        "!pip install trafilatura\n",
        "!pip install asyncio\n",
        "!pip install dotenv"
      ]
    },
    {
      "cell_type": "code",
      "source": [
        "from langchain.tools import BaseTool\n",
        "from langchain.text_splitter import RecursiveCharacterTextSplitter\n",
        "from pydantic import Field\n",
        "from langchain.chains.qa_with_sources.loading import load_qa_with_sources_chain, BaseCombineDocumentsChain\n",
        "from langchain.chat_models import ChatOpenAI\n",
        "import os, asyncio, trafilatura\n",
        "from langchain.docstore.document import Document\n",
        "\n",
        "OPENAI_API_KEY = \".....\"\n",
        "\n",
        "def _get_text_splitter():\n",
        "    return RecursiveCharacterTextSplitter(\n",
        "        # Set a really small chunk size, just to show.\n",
        "        chunk_size = 500,\n",
        "        chunk_overlap  = 20,\n",
        "        length_function = len,\n",
        "    )\n",
        "\n",
        "class WebpageQATool(BaseTool):\n",
        "    name = \"query_webpage\"\n",
        "    description = \"Browse a webpage and retrieve the information relevant to the question.\"\n",
        "    text_splitter: RecursiveCharacterTextSplitter = Field(default_factory=_get_text_splitter)\n",
        "    qa_chain: BaseCombineDocumentsChain\n",
        "\n",
        "    def _run(self, question: str) -> str:\n",
        "        result = trafilatura.extract(trafilatura.fetch_url(url))\n",
        "        docs = [Document(page_content=result, metadata={\"source\": url})]\n",
        "        web_docs = self.text_splitter.split_documents(docs)\n",
        "        results = []\n",
        "        for i in range(0, len(web_docs), 4):\n",
        "            input_docs = web_docs[i:i+4]\n",
        "            window_result = self.qa_chain({\"input_documents\": input_docs, \"question\": question}, return_only_outputs=True)\n",
        "            results.append(f\"Response from window {i} - {window_result}\")\n",
        "        results_docs = [Document(page_content=\"\\n\".join(results), metadata={\"source\": url})]\n",
        "        return self.qa_chain({\"input_documents\": results_docs, \"question\": question}, return_only_outputs=True)\n",
        "\n",
        "    async def _arun(self, url: str, question: str) -> str:\n",
        "        raise NotImplementedError\n",
        "\n",
        "\n",
        "llm = ChatOpenAI(openai_api_key=OPENAI_API_KEY, temperature=1.0)\n",
        "query_website_tool = WebpageQATool(qa_chain=load_qa_with_sources_chain(llm))\n"
      ],
      "metadata": {
        "id": "Lc-9fF16Zyem"
      },
      "execution_count": 2,
      "outputs": []
    },
    {
      "cell_type": "code",
      "source": [
        "url = \"https://www.ispanyol.com\"\n",
        "print(query_website_tool.run(\"Bu site İspanyolca nasıl öğrenilir hakkında ne yazıyor?\"))"
      ],
      "metadata": {
        "id": "ymjAGLJdDSgg"
      },
      "execution_count": null,
      "outputs": []
    }
  ]
}